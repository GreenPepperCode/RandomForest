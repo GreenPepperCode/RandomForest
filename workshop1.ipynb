{
 "cells": [
  {
   "cell_type": "code",
   "execution_count": 1,
   "metadata": {},
   "outputs": [],
   "source": [
    "# Importation des bibliothèques nécessaires\n",
    "from sklearn.datasets import load_digits\n",
    "from sklearn.model_selection import train_test_split\n",
    "from sklearn.ensemble import BaggingClassifier, RandomForestClassifier, AdaBoostClassifier\n",
    "from sklearn.tree import DecisionTreeClassifier\n",
    "from sklearn.metrics import confusion_matrix, classification_report\n",
    "import numpy as np\n",
    "import matplotlib.pyplot as plt"
   ]
  },
  {
   "cell_type": "code",
   "execution_count": 3,
   "metadata": {},
   "outputs": [
    {
     "data": {
      "image/png": "[encoded data removed]",
      "text/plain": [
       "<Figure size 640x480 with 10 Axes>"
      ]
     },
     "metadata": {},
     "output_type": "display_data"
    }
   ],
   "source": [
    "# Chargement de la base de données digits (ensemble de chiffres manuscrits)\n",
    "digits = load_digits()\n",
    "X, y = digits.data, digits.target\n",
    "\n",
    "# Affichage des premières images pour une compréhension visuelle des données\n",
    "fig = plt.figure()\n",
    "for i, digit in enumerate(digits.images[:10]):\n",
    "    fig.add_subplot(1, 10, i + 1)\n",
    "    plt.imshow(digit, cmap='gray')\n",
    "plt.show()"
   ]
  },
  {
   "cell_type": "code",
   "execution_count": 4,
   "metadata": {},
   "outputs": [
    {
     "name": "stdout",
     "output_type": "stream",
     "text": [
      "Accuracy de l'arbre de décision : 0.7255871446229913\n"
     ]
    }
   ],
   "source": [
    "# Création et évaluation d'un classifieur de base (arbre de décision)\n",
    "clf = DecisionTreeClassifier()\n",
    "X_train, X_test, y_train, y_test = train_test_split(X, y, test_size=0.90)\n",
    "clf.fit(X_train, y_train)\n",
    "# Évaluation de la précision pour comprendre les performances de base\n",
    "print(\"Accuracy de l'arbre de décision :\", clf.score(X_test, y_test))"
   ]
  },
  {
   "cell_type": "code",
   "execution_count": 5,
   "metadata": {},
   "outputs": [
    {
     "name": "stdout",
     "output_type": "stream",
     "text": [
      "Accuracy du Bagging : 0.9283065512978986\n"
     ]
    }
   ],
   "source": [
    "# Application du Bagging avec des arbres de décision\n",
    "# Cette méthode vise à réduire la variance et à améliorer la robustesse du modèle\n",
    "bagging_clf = BaggingClassifier(DecisionTreeClassifier(), max_samples=0.5, max_features=0.5, n_estimators=200)\n",
    "bagging_clf.fit(X_train, y_train)\n",
    "# Évaluation de la précision pour voir l'effet du Bagging sur les performances\n",
    "print(\"Accuracy du Bagging :\", bagging_clf.score(X_test, y_test))"
   ]
  },
  {
   "cell_type": "code",
   "execution_count": 6,
   "metadata": {},
   "outputs": [
    {
     "name": "stdout",
     "output_type": "stream",
     "text": [
      "Accuracy de la Random Forest : 0.9406674907292955\n"
     ]
    }
   ],
   "source": [
    "# Utilisation de Random Forest\n",
    "# Random Forest est une extension du Bagging avec une randomisation supplémentaire dans la sélection des caractéristiques\n",
    "rf_clf = RandomForestClassifier(n_estimators=200)\n",
    "rf_clf.fit(X_train, y_train)\n",
    "# Analyse de la précision pour évaluer les performances de la Random Forest\n",
    "print(\"Accuracy de la Random Forest :\", rf_clf.score(X_test, y_test))"
   ]
  },
  {
   "cell_type": "code",
   "execution_count": 7,
   "metadata": {},
   "outputs": [
    {
     "name": "stderr",
     "output_type": "stream",
     "text": [
      "c:\\Users\\yzi\\AppData\\Local\\Programs\\Python\\Python312\\Lib\\site-packages\\sklearn\\ensemble\\_weight_boosting.py:519: FutureWarning: The SAMME.R algorithm (the default) is deprecated and will be removed in 1.6. Use the SAMME algorithm to circumvent this warning.\n",
      "  warnings.warn(\n"
     ]
    },
    {
     "name": "stdout",
     "output_type": "stream",
     "text": [
      "Accuracy de AdaBoost : 0.9338689740420272\n"
     ]
    }
   ],
   "source": [
    "# Mise en œuvre de AdaBoost\n",
    "# AdaBoost est une méthode de boosting qui ajuste les poids des observations mal classées à chaque itération\n",
    "ada_clf = AdaBoostClassifier(DecisionTreeClassifier(max_depth=5), n_estimators=200, learning_rate=1)\n",
    "ada_clf.fit(X_train, y_train)\n",
    "# Évaluation de la précision pour mesurer l'efficacité d'AdaBoost sur cet ensemble de données\n",
    "print(\"Accuracy de AdaBoost :\", ada_clf.score(X_test, y_test))"
   ]
  },
  {
   "cell_type": "code",
   "execution_count": 8,
   "metadata": {},
   "outputs": [
    {
     "name": "stdout",
     "output_type": "stream",
     "text": [
      "Arbre de décision - Matrice de confusion :\n",
      "[[130   2   0   0  10   0   8   4   3   3]\n",
      " [  1 127   4   4   3   5   2   2   4  11]\n",
      " [  6   6 132   0   0   0   1   2  11   3]\n",
      " [  4   4   3 114   1   7   1   6  14  16]\n",
      " [  5   2   0   0 119  13   5  14   4   2]\n",
      " [  0   4   0   0  11 122  18   9   1   2]\n",
      " [  4   4   1   0   3   8 122   0  14   0]\n",
      " [  2   2   2   0  12  13   0 125   0   3]\n",
      " [  1  15   8   1   5  12   7   5  93   8]\n",
      " [  1  19   0  16   2  13   1   4  17  90]]\n",
      "Arbre de décision - Rapport de classification :\n",
      "              precision    recall  f1-score   support\n",
      "\n",
      "           0       0.84      0.81      0.83       160\n",
      "           1       0.69      0.78      0.73       163\n",
      "           2       0.88      0.82      0.85       161\n",
      "           3       0.84      0.67      0.75       170\n",
      "           4       0.72      0.73      0.72       164\n",
      "           5       0.63      0.73      0.68       167\n",
      "           6       0.74      0.78      0.76       156\n",
      "           7       0.73      0.79      0.76       159\n",
      "           8       0.58      0.60      0.59       155\n",
      "           9       0.65      0.55      0.60       163\n",
      "\n",
      "    accuracy                           0.73      1618\n",
      "   macro avg       0.73      0.73      0.73      1618\n",
      "weighted avg       0.73      0.73      0.73      1618\n",
      "\n"
     ]
    }
   ],
   "source": [
    "# Analyse pour l'arbre de décision\n",
    "y_pred = clf.predict(X_test)\n",
    "print(\"Arbre de décision - Matrice de confusion :\")\n",
    "print(confusion_matrix(y_test, y_pred))\n",
    "print(\"Arbre de décision - Rapport de classification :\")\n",
    "print(classification_report(y_test, y_pred))"
   ]
  },
  {
   "cell_type": "code",
   "execution_count": 9,
   "metadata": {},
   "outputs": [
    {
     "name": "stdout",
     "output_type": "stream",
     "text": [
      "Bagging - Matrice de confusion :\n",
      "[[158   0   0   0   2   0   0   0   0   0]\n",
      " [  0 157   1   1   0   0   1   0   1   2]\n",
      " [  1   1 146   6   0   0   0   0   6   1]\n",
      " [  2   3   0 148   0   2   0   5   9   1]\n",
      " [  1   2   0   0 158   0   0   3   0   0]\n",
      " [  1   2   0   3   2 151   3   0   1   4]\n",
      " [  2   1   0   0   1   0 152   0   0   0]\n",
      " [  0   0   0   0   2   0   0 155   0   2]\n",
      " [  0   5   2   1   1   3   1   5 134   3]\n",
      " [  0   3   0   3   0   3   0   7   4 143]]\n",
      "Bagging - Rapport de classification :\n",
      "              precision    recall  f1-score   support\n",
      "\n",
      "           0       0.96      0.99      0.97       160\n",
      "           1       0.90      0.96      0.93       163\n",
      "           2       0.98      0.91      0.94       161\n",
      "           3       0.91      0.87      0.89       170\n",
      "           4       0.95      0.96      0.96       164\n",
      "           5       0.95      0.90      0.93       167\n",
      "           6       0.97      0.97      0.97       156\n",
      "           7       0.89      0.97      0.93       159\n",
      "           8       0.86      0.86      0.86       155\n",
      "           9       0.92      0.88      0.90       163\n",
      "\n",
      "    accuracy                           0.93      1618\n",
      "   macro avg       0.93      0.93      0.93      1618\n",
      "weighted avg       0.93      0.93      0.93      1618\n",
      "\n"
     ]
    }
   ],
   "source": [
    "# Analyse pour le modèle Bagging\n",
    "y_pred_bagging = bagging_clf.predict(X_test)\n",
    "print(\"Bagging - Matrice de confusion :\")\n",
    "print(confusion_matrix(y_test, y_pred_bagging))\n",
    "print(\"Bagging - Rapport de classification :\")\n",
    "print(classification_report(y_test, y_pred_bagging))"
   ]
  },
  {
   "cell_type": "code",
   "execution_count": 10,
   "metadata": {},
   "outputs": [
    {
     "name": "stdout",
     "output_type": "stream",
     "text": [
      "Random Forest - Matrice de confusion :\n",
      "[[157   0   0   0   3   0   0   0   0   0]\n",
      " [  0 160   0   1   0   1   0   0   0   1]\n",
      " [  1   0 151   5   0   0   0   0   2   2]\n",
      " [  0   2   0 149   0   2   0   6   9   2]\n",
      " [  0   1   0   0 162   0   0   1   0   0]\n",
      " [  0   2   0   2   1 150   2   0   1   9]\n",
      " [  2   0   0   0   0   0 154   0   0   0]\n",
      " [  0   1   0   0   1   0   0 156   0   1]\n",
      " [  0   3   1   2   1   2   0   3 141   2]\n",
      " [  0   2   0   6   2   2   0   6   3 142]]\n",
      "Random Forest - Rapport de classification :\n",
      "              precision    recall  f1-score   support\n",
      "\n",
      "           0       0.98      0.98      0.98       160\n",
      "           1       0.94      0.98      0.96       163\n",
      "           2       0.99      0.94      0.96       161\n",
      "           3       0.90      0.88      0.89       170\n",
      "           4       0.95      0.99      0.97       164\n",
      "           5       0.96      0.90      0.93       167\n",
      "           6       0.99      0.99      0.99       156\n",
      "           7       0.91      0.98      0.94       159\n",
      "           8       0.90      0.91      0.91       155\n",
      "           9       0.89      0.87      0.88       163\n",
      "\n",
      "    accuracy                           0.94      1618\n",
      "   macro avg       0.94      0.94      0.94      1618\n",
      "weighted avg       0.94      0.94      0.94      1618\n",
      "\n"
     ]
    }
   ],
   "source": [
    "# Analyse pour le modèle Random Forest\n",
    "y_pred_rf = rf_clf.predict(X_test)\n",
    "print(\"Random Forest - Matrice de confusion :\")\n",
    "print(confusion_matrix(y_test, y_pred_rf))\n",
    "print(\"Random Forest - Rapport de classification :\")\n",
    "print(classification_report(y_test, y_pred_rf))"
   ]
  },
  {
   "cell_type": "code",
   "execution_count": 11,
   "metadata": {},
   "outputs": [
    {
     "name": "stdout",
     "output_type": "stream",
     "text": [
      "AdaBoost - Matrice de confusion :\n",
      "[[158   0   0   0   1   0   1   0   0   0]\n",
      " [  0 159   0   1   0   0   1   0   0   2]\n",
      " [  1   0 147   1   0   0   0   0   7   5]\n",
      " [  0   2   0 144   0   2   0   4  14   4]\n",
      " [  0   4   0   0 158   0   0   2   0   0]\n",
      " [  0   2   0   2   1 148   5   0   2   7]\n",
      " [  1   1   0   0   0   0 153   0   1   0]\n",
      " [  0   0   0   0   1   0   0 153   1   4]\n",
      " [  0   3   1   0   0   3   0   0 146   2]\n",
      " [  0   0   0   7   1   3   0   5   2 145]]\n",
      "AdaBoost - Rapport de classification :\n",
      "              precision    recall  f1-score   support\n",
      "\n",
      "           0       0.99      0.99      0.99       160\n",
      "           1       0.93      0.98      0.95       163\n",
      "           2       0.99      0.91      0.95       161\n",
      "           3       0.93      0.85      0.89       170\n",
      "           4       0.98      0.96      0.97       164\n",
      "           5       0.95      0.89      0.92       167\n",
      "           6       0.96      0.98      0.97       156\n",
      "           7       0.93      0.96      0.95       159\n",
      "           8       0.84      0.94      0.89       155\n",
      "           9       0.86      0.89      0.87       163\n",
      "\n",
      "    accuracy                           0.93      1618\n",
      "   macro avg       0.94      0.93      0.93      1618\n",
      "weighted avg       0.94      0.93      0.93      1618\n",
      "\n"
     ]
    }
   ],
   "source": [
    "# Analyse pour le modèle AdaBoost\n",
    "y_pred_ada = ada_clf.predict(X_test)\n",
    "print(\"AdaBoost - Matrice de confusion :\")\n",
    "print(confusion_matrix(y_test, y_pred_ada))\n",
    "print(\"AdaBoost - Rapport de classification :\")\n",
    "print(classification_report(y_test, y_pred_ada))"
   ]
  }
 ],
 "metadata": {
  "kernelspec": {
   "display_name": "Python 3",
   "language": "python",
   "name": "python3"
  },
  "language_info": {
   "codemirror_mode": {
    "name": "ipython",
    "version": 3
   },
   "file_extension": ".py",
   "mimetype": "text/x-python",
   "name": "python",
   "nbconvert_exporter": "python",
   "pygments_lexer": "ipython3",
   "version": "3.12.1"
  }
 },
 "nbformat": 4,
 "nbformat_minor": 2
}
